{
 "cells": [
  {
   "cell_type": "code",
   "execution_count": 1,
   "metadata": {
    "collapsed": true
   },
   "outputs": [],
   "source": [
    "import common_utils as utils"
   ]
  },
  {
   "cell_type": "code",
   "execution_count": 2,
   "metadata": {
    "collapsed": true
   },
   "outputs": [],
   "source": [
    "import numpy as np"
   ]
  },
  {
   "cell_type": "code",
   "execution_count": 3,
   "metadata": {
    "collapsed": true
   },
   "outputs": [],
   "source": [
    "import yaml"
   ]
  },
  {
   "cell_type": "code",
   "execution_count": 4,
   "metadata": {
    "collapsed": true
   },
   "outputs": [],
   "source": [
    "db_pars = yaml.load(open('/home/kuanpern/.keys/local_test.yaml'))"
   ]
  },
  {
   "cell_type": "code",
   "execution_count": 5,
   "metadata": {
    "collapsed": true
   },
   "outputs": [],
   "source": [
    "db, client = utils.connect_mongoDB_server(db_pars)"
   ]
  },
  {
   "cell_type": "code",
   "execution_count": 6,
   "metadata": {},
   "outputs": [
    {
     "data": {
      "text/plain": [
       "[u'Data_ingestion', u'Scflex_control', u'Users', u'admin', u'local']"
      ]
     },
     "execution_count": 6,
     "metadata": {},
     "output_type": "execute_result"
    }
   ],
   "source": [
    "client.database_names()"
   ]
  },
  {
   "cell_type": "code",
   "execution_count": 7,
   "metadata": {
    "collapsed": true
   },
   "outputs": [],
   "source": [
    "db = client['Data_ingestion']"
   ]
  },
  {
   "cell_type": "code",
   "execution_count": 8,
   "metadata": {
    "collapsed": true
   },
   "outputs": [],
   "source": [
    "import time"
   ]
  },
  {
   "cell_type": "code",
   "execution_count": 9,
   "metadata": {
    "collapsed": true
   },
   "outputs": [],
   "source": [
    "coll = db['consumerDataPull']"
   ]
  },
  {
   "cell_type": "code",
   "execution_count": 160,
   "metadata": {},
   "outputs": [
    {
     "data": {
      "text/plain": [
       "[(ObjectId('59c0f9ea05620a18841005f9'), 1.1338839530944824),\n",
       " (ObjectId('59c0f9ea05620a18841005fb'), 1.1327269077301025),\n",
       " (ObjectId('59c0f9ea05620a18841005fd'), 72.69946694374084),\n",
       " (ObjectId('59c0f9ea05620a18841005ff'), 1.1460518836975098),\n",
       " (ObjectId('59c0f9ea05620a1884100601'), 0.05883502960205078),\n",
       " (ObjectId('59c0f9ea05620a1884100603'), 0.05883598327636719),\n",
       " (ObjectId('59c0f9ea05620a1884100605'), 1.1474499702453613),\n",
       " (ObjectId('59c0f9ea05620a1884100607'), 1.1599609851837158),\n",
       " (ObjectId('59c0f9ea05620a1884100609'), 1.1599621772766113),\n",
       " (ObjectId('59c0f9ea05620a188410060b'), 72.64028906822205),\n",
       " (ObjectId('59c0f9ea05620a188410060d'), 72.68221402168274)]"
      ]
     },
     "execution_count": 160,
     "metadata": {},
     "output_type": "execute_result"
    }
   ],
   "source": [
    "data = list(coll.find({'role':'task'}, {'status.last_updated': True}))\n",
    "_time = time.time()\n",
    "[(dat['_id'], time.time() - dat['status']['last_updated']) for dat in data]"
   ]
  },
  {
   "cell_type": "code",
   "execution_count": 17,
   "metadata": {},
   "outputs": [
    {
     "data": {
      "text/plain": [
       "[{u'_id': ObjectId('59c0f9ea05620a18841005f9'),\n",
       "  u'program_pars': {u'min_repeat_interval': 60.0}},\n",
       " {u'_id': ObjectId('59c0f9ea05620a18841005fb'),\n",
       "  u'program_pars': {u'min_repeat_interval': 60.0}},\n",
       " {u'_id': ObjectId('59c0f9ea05620a18841005fd'),\n",
       "  u'program_pars': {u'min_repeat_interval': 60.0}},\n",
       " {u'_id': ObjectId('59c0f9ea05620a18841005ff'),\n",
       "  u'program_pars': {u'min_repeat_interval': 60.0}},\n",
       " {u'_id': ObjectId('59c0f9ea05620a1884100601'),\n",
       "  u'program_pars': {u'min_repeat_interval': 60.0}},\n",
       " {u'_id': ObjectId('59c0f9ea05620a1884100603'),\n",
       "  u'program_pars': {u'min_repeat_interval': 60.0}},\n",
       " {u'_id': ObjectId('59c0f9ea05620a1884100605'),\n",
       "  u'program_pars': {u'min_repeat_interval': 60.0}},\n",
       " {u'_id': ObjectId('59c0f9ea05620a1884100607'),\n",
       "  u'program_pars': {u'min_repeat_interval': 60.0}},\n",
       " {u'_id': ObjectId('59c0f9ea05620a1884100609'),\n",
       "  u'program_pars': {u'min_repeat_interval': 60.0}},\n",
       " {u'_id': ObjectId('59c0f9ea05620a188410060b'),\n",
       "  u'program_pars': {u'min_repeat_interval': 60.0}},\n",
       " {u'_id': ObjectId('59c0f9ea05620a188410060d'),\n",
       "  u'program_pars': {u'min_repeat_interval': 60.0}}]"
      ]
     },
     "execution_count": 17,
     "metadata": {},
     "output_type": "execute_result"
    }
   ],
   "source": [
    "data = list(coll.find({'role':'task'}, {'program_pars.min_repeat_interval': True}))\n",
    "data"
   ]
  },
  {
   "cell_type": "code",
   "execution_count": 289,
   "metadata": {
    "collapsed": true
   },
   "outputs": [],
   "source": [
    "s_time = time.time()"
   ]
  },
  {
   "cell_type": "code",
   "execution_count": 66,
   "metadata": {
    "collapsed": true
   },
   "outputs": [],
   "source": [
    "e_time = time.time()"
   ]
  },
  {
   "cell_type": "code",
   "execution_count": 246,
   "metadata": {},
   "outputs": [
    {
     "data": {
      "text/plain": [
       "[{u'_id': ObjectId('59c8708ad1b86847625d62ec'),\n",
       "  u'batch_size': 8,\n",
       "  u'hibernation_period': 10,\n",
       "  u'max_failure_n': 5,\n",
       "  u'max_timeout': 600,\n",
       "  u'min_repeat_interval': 0,\n",
       "  u'name': u'consumerDataPull',\n",
       "  u'refresh_interval': 60,\n",
       "  u'role': u'engine_conf',\n",
       "  u'uuid': u'e7e7d7b5-608d-4032-8c62-a9871e12cf00'}]"
      ]
     },
     "execution_count": 246,
     "metadata": {},
     "output_type": "execute_result"
    }
   ],
   "source": [
    "list(coll.find({'role': 'engine_conf'}))"
   ]
  },
  {
   "cell_type": "code",
   "execution_count": 29,
   "metadata": {
    "collapsed": true
   },
   "outputs": [],
   "source": [
    "_match = {}"
   ]
  },
  {
   "cell_type": "code",
   "execution_count": 30,
   "metadata": {
    "collapsed": true
   },
   "outputs": [],
   "source": [
    "_match.update({'role': 'task', 'status.status': 'active'})"
   ]
  },
  {
   "cell_type": "code",
   "execution_count": 31,
   "metadata": {
    "collapsed": true
   },
   "outputs": [],
   "source": [
    "_match.update({'status.failure_n': {'$lt': 5}})"
   ]
  },
  {
   "cell_type": "code",
   "execution_count": 209,
   "metadata": {
    "collapsed": true
   },
   "outputs": [],
   "source": []
  },
  {
   "cell_type": "code",
   "execution_count": 210,
   "metadata": {
    "collapsed": true
   },
   "outputs": [],
   "source": [
    "_now = time.time()\n",
    "_timepast = {'$subtract': [_now, '$status.last_updated']}\n",
    "_priority = {'$multiply': ['$status.priority_r', _timepast]}"
   ]
  },
  {
   "cell_type": "code",
   "execution_count": 211,
   "metadata": {
    "collapsed": true
   },
   "outputs": [],
   "source": []
  },
  {
   "cell_type": "code",
   "execution_count": 33,
   "metadata": {
    "collapsed": true
   },
   "outputs": [],
   "source": [
    "min_repeat_interval = 0\n",
    "batch_size = 20"
   ]
  },
  {
   "cell_type": "code",
   "execution_count": 274,
   "metadata": {
    "collapsed": true
   },
   "outputs": [],
   "source": [
    "cursor = coll.aggregate([\n",
    "  {'$match': _match},\n",
    "  {'$project':\n",
    "    {'_id': '$_id', 'program_pars': '$program_pars', 'name': '$name',\n",
    "     'priority': _priority, 'timepast': _timepast,\n",
    "     'last_updated': '$status.last_updated',\n",
    "     'det_repeat': {'$cmp': ['$program_pars.min_repeat_interval', '$timepast'] }} \n",
    "  },\n",
    "  {'$match': {'$and':[\n",
    "    {'timepast'  : {'$gt': min_repeat_interval }},\n",
    "    {'det_repeat': {'$gt': 0 }},\n",
    "  ]}},\n",
    "#  {'$sort' : {'priority': -1}},\n",
    "  {'$limit': batch_size},\n",
    " # {'$project': {'_id': True, 'name': True, 'program_pars': True} }\n",
    "])"
   ]
  },
  {
   "cell_type": "code",
   "execution_count": 275,
   "metadata": {},
   "outputs": [
    {
     "data": {
      "text/plain": [
       "[]"
      ]
     },
     "execution_count": 275,
     "metadata": {},
     "output_type": "execute_result"
    }
   ],
   "source": [
    "list(cursor)"
   ]
  },
  {
   "cell_type": "code",
   "execution_count": 27,
   "metadata": {
    "collapsed": true
   },
   "outputs": [],
   "source": [
    "max_failure_n = 5"
   ]
  },
  {
   "cell_type": "code",
   "execution_count": 124,
   "metadata": {},
   "outputs": [],
   "source": [
    "_now = time.time()\n",
    "_timepast = {'$subtract': [_now, '$status.last_updated']}\n",
    "_priority = {'$multiply': ['$status.priority_r', _timepast]}\n",
    "cursor = coll.aggregate([\n",
    "  {'$match': _match},\n",
    "  {'$project':\n",
    "        {'_id': '$_id', 'program_pars': '$program_pars', 'name': '$name',\n",
    "         'priority': _priority, 'timepast': _timepast,\n",
    "         'det_repeat': {'$cmp': ['$program_pars.min_repeat_interval' , '$timepast'] }} \n",
    "  },\n",
    "  {'$match': {\"$and\": [\n",
    "        {'timepast'  : {'$gt': min_repeat_interval }},\n",
    "#        {'det_repeat': {'$lt': 0.0}},\n",
    "  ]}},\n",
    "  {'$sort' : {'priority': -1}},\n",
    "  {'$limit': batch_size},\n",
    "#  {'$project': {'_id': True, 'name': True, 'program_pars': True} }\n",
    "])\n",
    "program_pars_list = list(cursor)"
   ]
  },
  {
   "cell_type": "code",
   "execution_count": 125,
   "metadata": {},
   "outputs": [
    {
     "data": {
      "text/plain": [
       "11"
      ]
     },
     "execution_count": 125,
     "metadata": {},
     "output_type": "execute_result"
    }
   ],
   "source": [
    "len(program_pars_list)"
   ]
  },
  {
   "cell_type": "code",
   "execution_count": 126,
   "metadata": {},
   "outputs": [
    {
     "data": {
      "text/plain": [
       "[{u'_id': ObjectId('59c0f9ea05620a1884100605'),\n",
       "  u'det_repeat': 1,\n",
       "  u'name': u'user-17',\n",
       "  u'priority': 256.60263299942017,\n",
       "  u'program_pars': {u'cmd_args': [{u'user': u'user-17'}, {u'duration': 1}],\n",
       "   u'executable': u'/home/ucare/Scflex_services/bootstrap_app/package/sleep.py',\n",
       "   u'min_repeat_interval': 60.0,\n",
       "   u'timeout': 15,\n",
       "   u'working_dir': u'/home/ucare/Scflex_services/bootstrap_app/workspace'},\n",
       "  u'timepast': 256.60263299942017},\n",
       " {u'_id': ObjectId('59c0f9ea05620a18841005f9'),\n",
       "  u'det_repeat': 1,\n",
       "  u'name': u'user-11',\n",
       "  u'priority': 255.5788390636444,\n",
       "  u'program_pars': {u'cmd_args': [{u'user': u'user-11'}, {u'duration': 1}],\n",
       "   u'executable': u'/home/ucare/Scflex_services/bootstrap_app/package/sleep.py',\n",
       "   u'min_repeat_interval': 60.0,\n",
       "   u'timeout': 15,\n",
       "   u'working_dir': u'/home/ucare/Scflex_services/bootstrap_app/workspace'},\n",
       "  u'timepast': 255.5788390636444},\n",
       " {u'_id': ObjectId('59c0f9ea05620a1884100601'),\n",
       "  u'det_repeat': 1,\n",
       "  u'name': u'user-15',\n",
       "  u'priority': 255.57269406318665,\n",
       "  u'program_pars': {u'cmd_args': [{u'user': u'user-15'}, {u'duration': 1}],\n",
       "   u'executable': u'/home/ucare/Scflex_services/bootstrap_app/package/sleep.py',\n",
       "   u'min_repeat_interval': 60.0,\n",
       "   u'timeout': 15,\n",
       "   u'working_dir': u'/home/ucare/Scflex_services/bootstrap_app/workspace'},\n",
       "  u'timepast': 255.57269406318665},\n",
       " {u'_id': ObjectId('59c0f9ea05620a18841005fb'),\n",
       "  u'det_repeat': 1,\n",
       "  u'name': u'user-12',\n",
       "  u'priority': 244.39926409721375,\n",
       "  u'program_pars': {u'cmd_args': [{u'user': u'user-12'}, {u'duration': 1}],\n",
       "   u'executable': u'/home/ucare/Scflex_services/bootstrap_app/package/sleep.py',\n",
       "   u'min_repeat_interval': 60.0,\n",
       "   u'timeout': 15,\n",
       "   u'working_dir': u'/home/ucare/Scflex_services/bootstrap_app/workspace'},\n",
       "  u'timepast': 244.39926409721375},\n",
       " {u'_id': ObjectId('59c0f9ea05620a18841005ff'),\n",
       "  u'det_repeat': 1,\n",
       "  u'name': u'user-14',\n",
       "  u'priority': 244.39926409721375,\n",
       "  u'program_pars': {u'cmd_args': [{u'user': u'user-14'}, {u'duration': 1}],\n",
       "   u'executable': u'/home/ucare/Scflex_services/bootstrap_app/package/sleep.py',\n",
       "   u'min_repeat_interval': 60.0,\n",
       "   u'timeout': 15,\n",
       "   u'working_dir': u'/home/ucare/Scflex_services/bootstrap_app/workspace'},\n",
       "  u'timepast': 244.39926409721375},\n",
       " {u'_id': ObjectId('59c0f9ea05620a1884100607'),\n",
       "  u'det_repeat': 1,\n",
       "  u'name': u'user-18',\n",
       "  u'priority': 244.39041805267334,\n",
       "  u'program_pars': {u'cmd_args': [{u'user': u'user-18'}, {u'duration': 1}],\n",
       "   u'executable': u'/home/ucare/Scflex_services/bootstrap_app/package/sleep.py',\n",
       "   u'min_repeat_interval': 60.0,\n",
       "   u'timeout': 15,\n",
       "   u'working_dir': u'/home/ucare/Scflex_services/bootstrap_app/workspace'},\n",
       "  u'timepast': 244.39041805267334},\n",
       " {u'_id': ObjectId('59c0f9ea05620a1884100603'),\n",
       "  u'det_repeat': 1,\n",
       "  u'name': u'user-16',\n",
       "  u'priority': 244.37711000442505,\n",
       "  u'program_pars': {u'cmd_args': [{u'user': u'user-16'}, {u'duration': 1}],\n",
       "   u'executable': u'/home/ucare/Scflex_services/bootstrap_app/package/sleep.py',\n",
       "   u'min_repeat_interval': 60.0,\n",
       "   u'timeout': 15,\n",
       "   u'working_dir': u'/home/ucare/Scflex_services/bootstrap_app/workspace'},\n",
       "  u'timepast': 244.37711000442505},\n",
       " {u'_id': ObjectId('59c0f9ea05620a1884100609'),\n",
       "  u'det_repeat': 1,\n",
       "  u'name': u'user-19',\n",
       "  u'priority': 244.355544090271,\n",
       "  u'program_pars': {u'cmd_args': [{u'user': u'user-19'}, {u'duration': 1}],\n",
       "   u'executable': u'/home/ucare/Scflex_services/bootstrap_app/package/sleep.py',\n",
       "   u'min_repeat_interval': 60.0,\n",
       "   u'timeout': 15,\n",
       "   u'working_dir': u'/home/ucare/Scflex_services/bootstrap_app/workspace'},\n",
       "  u'timepast': 244.355544090271},\n",
       " {u'_id': ObjectId('59c0f9ea05620a188410060d'),\n",
       "  u'det_repeat': 1,\n",
       "  u'name': u'user-21',\n",
       "  u'priority': 244.34109902381897,\n",
       "  u'program_pars': {u'cmd_args': [{u'user': u'user-21'}, {u'duration': 1}],\n",
       "   u'executable': u'/home/ucare/Scflex_services/bootstrap_app/package/sleep.py',\n",
       "   u'min_repeat_interval': 60.0,\n",
       "   u'timeout': 15,\n",
       "   u'working_dir': u'/home/ucare/Scflex_services/bootstrap_app/workspace'},\n",
       "  u'timepast': 244.34109902381897},\n",
       " {u'_id': ObjectId('59c0f9ea05620a18841005fd'),\n",
       "  u'det_repeat': 1,\n",
       "  u'name': u'user-13',\n",
       "  u'priority': 243.29941201210022,\n",
       "  u'program_pars': {u'cmd_args': [{u'user': u'user-13'}, {u'duration': 1}],\n",
       "   u'executable': u'/home/ucare/Scflex_services/bootstrap_app/package/sleep.py',\n",
       "   u'min_repeat_interval': 60.0,\n",
       "   u'timeout': 15,\n",
       "   u'working_dir': u'/home/ucare/Scflex_services/bootstrap_app/workspace'},\n",
       "  u'timepast': 243.29941201210022},\n",
       " {u'_id': ObjectId('59c0f9ea05620a188410060b'),\n",
       "  u'det_repeat': 1,\n",
       "  u'name': u'user-20',\n",
       "  u'priority': 243.29766011238098,\n",
       "  u'program_pars': {u'cmd_args': [{u'user': u'user-20'}, {u'duration': 1}],\n",
       "   u'executable': u'/home/ucare/Scflex_services/bootstrap_app/package/sleep.py',\n",
       "   u'min_repeat_interval': 60.0,\n",
       "   u'timeout': 15,\n",
       "   u'working_dir': u'/home/ucare/Scflex_services/bootstrap_app/workspace'},\n",
       "  u'timepast': 243.29766011238098}]"
      ]
     },
     "execution_count": 126,
     "metadata": {},
     "output_type": "execute_result"
    }
   ],
   "source": [
    "program_pars_list"
   ]
  },
  {
   "cell_type": "code",
   "execution_count": 62,
   "metadata": {},
   "outputs": [
    {
     "data": {
      "text/plain": [
       "11"
      ]
     },
     "execution_count": 62,
     "metadata": {},
     "output_type": "execute_result"
    }
   ],
   "source": []
  },
  {
   "cell_type": "code",
   "execution_count": null,
   "metadata": {
    "collapsed": true
   },
   "outputs": [],
   "source": []
  }
 ],
 "metadata": {
  "kernelspec": {
   "display_name": "Python 2",
   "language": "python",
   "name": "python2"
  },
  "language_info": {
   "codemirror_mode": {
    "name": "ipython",
    "version": 2
   },
   "file_extension": ".py",
   "mimetype": "text/x-python",
   "name": "python",
   "nbconvert_exporter": "python",
   "pygments_lexer": "ipython2",
   "version": "2.7.12"
  }
 },
 "nbformat": 4,
 "nbformat_minor": 2
}
