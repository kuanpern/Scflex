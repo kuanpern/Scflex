{
 "cells": [
  {
   "cell_type": "markdown",
   "metadata": {},
   "source": [
    "## Scflex Tutorial"
   ]
  },
  {
   "cell_type": "markdown",
   "metadata": {},
   "source": [
    "## Introduction"
   ]
  },
  {
   "cell_type": "markdown",
   "metadata": {},
   "source": [
    "The program will read User health data, and compare it with the aggregrated historical pattern statistics. Specifically in this example, only heart-rate data is concerned, and the pattern refers specifically to a continuous 3-minute readings. The statistics is representated as a scoring table and is stored in a MongoDB document.\n",
    "\n",
    "\n",
    "\n"
   ]
  },
  {
   "cell_type": "markdown",
   "metadata": {},
   "source": [
    "#### Prerequisites\n",
    "This tutorial assumes\n",
    " * MongoDB and Apache Spark have been properly installed on the local machine. \n",
    " * dependencies of the program have been properly installed on the local machine. (the dependencies can be installed with the following commmands after the clonnig)\n",
    "  * sudo apt install pip\n",
    "  * cd $HOME/uCare/setup; sudo pip install -r requirements.txt\n",
    " * A \"Users\" MongoDB database, a \"Health_data\" collection underneath and the corresponding heart-rate data intact.\n",
    " * A \"Models\" MongoDB database, a \"scoring_tables\" collection underneath and the corresponding model inserted already."
   ]
  },
  {
   "cell_type": "markdown",
   "metadata": {},
   "source": [
    "### Downloading the packages"
   ]
  },
  {
   "cell_type": "markdown",
   "metadata": {},
   "source": [
    "Three directories need to be cloned from Github repository for the purpose of this tutorial, namely (i) Scflex (ii) uCare_service_hooks (iii) uCare_analytics"
   ]
  },
  {
   "cell_type": "code",
   "execution_count": null,
   "metadata": {
    "collapsed": true
   },
   "outputs": [],
   "source": [
    ">$ cd $HOME\n",
    ">$ git clone Scflex\n",
    ">$ git clone uCare_service_hooks\n",
    ">$ git clone uCare_analytics\n",
    ">$ mv uCare_analytics uCare"
   ]
  },
  {
   "cell_type": "markdown",
   "metadata": {},
   "source": [
    "(use “git pull origin master” if the directory is already cloned)"
   ]
  },
  {
   "cell_type": "markdown",
   "metadata": {},
   "source": [
    "Setup the hook (soft-link) between main package and service_hooks directory"
   ]
  },
  {
   "cell_type": "code",
   "execution_count": null,
   "metadata": {
    "collapsed": true
   },
   "outputs": [],
   "source": [
    ">$ cd $HOME/uCare/services/Analytics/simple_pattern_scoring/\n",
    ">$ ln -sf $HOME/uCare_service_hooks/simple_pattern_scoring/ scflex_hook"
   ]
  },
  {
   "cell_type": "markdown",
   "metadata": {},
   "source": [
    "### Databases creation (if neccessary)"
   ]
  },
  {
   "cell_type": "markdown",
   "metadata": {},
   "source": [
    "This section describes the step of databases creation. Most likely though these databases would have been created for other algorithms, and the steps could be skipped."
   ]
  },
  {
   "cell_type": "code",
   "execution_count": null,
   "metadata": {
    "collapsed": true
   },
   "outputs": [],
   "source": [
    "# login to mongo db\n",
    ">$ mongo admin -u root -p password"
   ]
  },
  {
   "cell_type": "code",
   "execution_count": null,
   "metadata": {
    "collapsed": true
   },
   "outputs": [],
   "source": [
    "# setup the database and collection\n",
    "use Analytics;\n",
    "db.simple_outlier_detection.insertOne({\"role\":\"placeholder\"});\n",
    "use Analytics_output;\n",
    "db.simple_outlier_detection.insertOne({\"role\":\"placeholder\"});"
   ]
  },
  {
   "cell_type": "markdown",
   "metadata": {},
   "source": [
    "### Database user crendential setup\n",
    "The algorithm will be run by user “analytic_bot”, and will need access to the following databases\n",
    " * Users (to read health data)\n",
    " * Models (to read the aggregrated statistics model)\n",
    " * Analytics (to contain the task list)\n",
    " * Analytics_output (to write the analytics output)"
   ]
  },
  {
   "cell_type": "code",
   "execution_count": 9,
   "metadata": {
    "collapsed": true
   },
   "outputs": [
    {
     "ename": "SyntaxError",
     "evalue": "invalid syntax (<ipython-input-9-fad8c490dfab>, line 1)",
     "output_type": "error",
     "traceback": [
      "\u001b[0;36m  File \u001b[0;32m\"<ipython-input-9-fad8c490dfab>\"\u001b[0;36m, line \u001b[0;32m1\u001b[0m\n\u001b[0;31m    >$ cd $HOME/uCare/services/Analytics/simple_pattern_scoring/setup; cat > setup_db_users.js\u001b[0m\n\u001b[0m    ^\u001b[0m\n\u001b[0;31mSyntaxError\u001b[0m\u001b[0;31m:\u001b[0m invalid syntax\n"
     ]
    }
   ],
   "source": [
    ">$ cd $HOME/uCare/services/Analytics/simple_pattern_scoring/setup; cat > setup_db_users.js"
   ]
  },
  {
   "cell_type": "code",
   "execution_count": null,
   "metadata": {
    "collapsed": true
   },
   "outputs": [],
   "source": [
    "// update user's role in admin database\n",
    "use admin;\n",
    "db.system.users.updateOne(\n",
    "    {\"_id\":\"admin.analytic_bot\"},\n",
    "    {$push: {\"roles\":\n",
    "        {\"role\": \"readWrite\", \"db\": \"Users\"},\n",
    "        {\"role\": \"readWrite\", \"db\": \"Models\"},\n",
    "        {\"role\": \"readWrite\", \"db\": \"Analytics\"}             \n",
    "        {\"role\": \"readWrite\", \"db\": \"Analytics_output\"}\n",
    "    }}\n",
    ");\n",
    "// create user in individual databases\n",
    "use Users;\n",
    "db.createUser({user: \"analytic_bot\", pwd: \"analyticpass\", roles: [{ role: \"readWrite\", \"db\" : \"Users\"}]});\n",
    "use Analytics;\n",
    "db.createUser({user: \"analytic_bot\", pwd: \"analyticpass\", roles: [{ role: \"readWrite\", \"db\" : \"Analytics\"}]});\n",
    "use Analytics_output;\n",
    "db.createUser({user: \"analytic_bot\", pwd: \"analyticpass\", roles: [{ role: \"readWrite\", \"db\" : \"Analytics_output\"}]});\n",
    "use Models;\n",
    "db.createUser({user: \"analytic_bot\", pwd: \"analyticpass\", roles: [{ role: \"readWrite\", \"db\" : \"Models\"}]});"
   ]
  },
  {
   "cell_type": "markdown",
   "metadata": {},
   "source": [
    "### Examine the executable"
   ]
  },
  {
   "cell_type": "markdown",
   "metadata": {},
   "source": [
    "the executable is located at /uCare/services/Analytics/simple_pattern_scoring"
   ]
  },
  {
   "cell_type": "markdown",
   "metadata": {},
   "source": [
    "./simple_pattern_scorer -h\n",
    "usage: simple_pattern_scorer [-h] --mode {interactive,database} [--meta META]\n",
    "                             [--infile INFILE] [--outfile OUTFILE]\n",
    "                             [--parfile PARFILE] [-m MONGO_FILE]\n",
    "                             [--vital_sign VITAL_SIGN] [--user_key USER_KEY]\n",
    "\n",
    "optional arguments:\n",
    "  -h, --help            show this help message and exit\n",
    "  --mode {interactive,database}\n",
    "                        mode of operation\n",
    "  --meta META           Scflex: hook for meta parameter file\n",
    "  --infile INFILE       input file name (.json)\n",
    "  --outfile OUTFILE     output file name (.pickle)\n",
    "  --parfile PARFILE     parameter file name (.yaml)\n",
    "  -m MONGO_FILE, --mongo_file MONGO_FILE\n",
    "                        MongoDB access file (.yaml)\n",
    "  --vital_sign VITAL_SIGN\n",
    "                        vital sign\n",
    "  --user_key USER_KEY   uCare user key of the user"
   ]
  },
  {
   "cell_type": "markdown",
   "metadata": {},
   "source": [
    "##### note: please ensure the executable works properly (at least in command-line mode)"
   ]
  },
  {
   "cell_type": "markdown",
   "metadata": {},
   "source": [
    "### Writing the task manager"
   ]
  },
  {
   "cell_type": "markdown",
   "metadata": {},
   "source": [
    "Scflex includes a \"controller\" which is intended to be included in a \"task manger\". The task manager facilitate the process of creating the task list, adding template and adding tasks.\n",
    "\n",
    "A task manager script is unique to and needs to be written for each different programs. It consolidates the different parameters, invokation methods, templates, models etc to be submitted to Scflex.\n",
    "\n",
    "The example task manager of our tutorial is as follows:"
   ]
  },
  {
   "cell_type": "code",
   "execution_count": 6,
   "metadata": {},
   "outputs": [],
   "source": [
    "from Scflex.utils.task_management_utils import Scflex_controller\n",
    "import yaml\n",
    "import uuid\n",
    "\n",
    "class simple_pattern_scoring_task_manager():\n",
    "    task_list_name  = 'simple_pattern_scoring_heart'\n",
    "    database_name   = 'Analytics'\n",
    "    collection_name = 'simple_pattern_scoring'\n",
    "\n",
    "    def __init__(self, db_pars):\n",
    "        self.controller = Scflex_controller(db_pars)\n",
    "        self.controller.set_task_list(self.database_name, self.collection_name)\n",
    "    # end def\n",
    "\n",
    "    def initialize_task_list(self):\n",
    "        '''warning: run only once'''\n",
    "        return self.controller.add_task_list(\n",
    "            task_list_name     = self.task_list_name,\n",
    "            database_name      = self.database_name,\n",
    "            collection_name    = self.collection_name,\n",
    "            batch_size         = 8\n",
    "        ) # end adding task list\n",
    "    # end def\n",
    "\n",
    "    def add_task(self, user_key, timeout = 120):\n",
    "        program_pars = {\n",
    "          \"working_dir\"  : \"/home/analytic_bot/uCare/services/Analytics/simple_pattern_scoring\",\n",
    "          \"executable\"   : \"./simple_outlier_detector\",\n",
    "          \"cmd_args\" : {\n",
    "            \"user_key\": user_key,\n",
    "            \"vital_sign\": \"heart\"\n",
    "           },\n",
    "        } # end pars\n",
    "\n",
    "        return self.controller.add_task_program(name=user_key, program_pars=program_pars, uuid_label=str(uuid.uuid4()), timeout=timeout)\n",
    "    # end def\n",
    "# end class"
   ]
  },
  {
   "cell_type": "markdown",
   "metadata": {},
   "source": [
    "To use the task manager, run the setup.py script. The content of the script is given as follows:"
   ]
  },
  {
   "cell_type": "code",
   "execution_count": null,
   "metadata": {
    "collapsed": true
   },
   "outputs": [],
   "source": [
    "# note: for demonstration only. Read this from file in production\n",
    "db_pars = {\n",
    "  'username': 'analytic_bot',\n",
    "  'password': 'analyticpass',\n",
    "  'cluster_url': '127.0.0.1:27017',\n",
    "  'database'   : 'Analytics',\n",
    "  'authSource' : 'admin',\n",
    "}\n",
    "# initiate the task manager\n",
    "manager = simple_outlier_detection_task_manager(db_pars)\n",
    "\n",
    "# - create the task list\n",
    "manager.initialize_task_list()\n",
    "\n",
    "# add program template\n",
    "template_file = '/home/analytic_bot/uCare/services/Analytics/simple_outlier_detection/templates/default_simple_outlier_detection_heart.yaml'\n",
    "manager.add_task_template_from_file(template_file)\n",
    "\n",
    "# add tasks (users) to the task list\n",
    "user_keys = ['user_001', 'user_002', 'user003'] # a list of users whose data is assumed to be in the database\n",
    "for user_key in user_keys:\n",
    "    manager.add_user(user_key)\n",
    "# end for\n"
   ]
  },
  {
   "cell_type": "markdown",
   "metadata": {},
   "source": [
    "### Start the task engine"
   ]
  },
  {
   "cell_type": "markdown",
   "metadata": {},
   "source": [
    "To start the task engine, it is recommended to first write the start-up file:"
   ]
  },
  {
   "cell_type": "markdown",
   "metadata": {},
   "source": [
    ">$ cd HOME/uCare/services/Analytics/simple_pattern_scoring/scflex_hook/; cat > start_app.sh\n",
    "#!/bin/sh\n",
    "/home/analytic_bot/Scflex/Scflex-master/Scflex/bin/start_service --app simple_pattern_scoring_heart --master spark://127.0.0.1:7077 --conf setups/.keys/service_conf.yaml --logdir /home/analytic_bot/logs/simple_pattern_scoring"
   ]
  },
  {
   "cell_type": "markdown",
   "metadata": {},
   "source": [
    "a service configuration file is needed for the start-up file to locate the engine configuration in MongoDB:"
   ]
  },
  {
   "cell_type": "code",
   "execution_count": null,
   "metadata": {
    "collapsed": true
   },
   "outputs": [],
   "source": [
    "cat > $HOME/uCare_service_hooks/simple_pattern_scoring/setups/.keys/service_conf.yaml \n",
    "db_pars:\n",
    "  username    : analytic_bot\n",
    "  password    : analyticpass\n",
    "  cluster_url : 127.0.0.1:27017\n",
    "  database    : Analytics\n",
    "  authSource  : admin\n",
    "task_db_name   : Analytics\n",
    "task_coll_name : simple_pattern_scoring\n",
    "match_dict : {\"role\": \"engine_conf\"}"
   ]
  },
  {
   "cell_type": "markdown",
   "metadata": {},
   "source": [
    "to setup the logging directory"
   ]
  },
  {
   "cell_type": "code",
   "execution_count": null,
   "metadata": {
    "collapsed": true
   },
   "outputs": [],
   "source": [
    "mkdir -p $HOME/logs/simple_pattern_scoring"
   ]
  },
  {
   "cell_type": "markdown",
   "metadata": {},
   "source": [
    "then start the engine with"
   ]
  },
  {
   "cell_type": "code",
   "execution_count": null,
   "metadata": {
    "collapsed": true
   },
   "outputs": [],
   "source": [
    "chmod a+x start_app.sh \n",
    "nohup ./start_app.sh > /log/simple_pattern_scoring_heart.nohup.log &"
   ]
  },
  {
   "cell_type": "code",
   "execution_count": null,
   "metadata": {
    "collapsed": true
   },
   "outputs": [],
   "source": []
  }
 ],
 "metadata": {
  "kernelspec": {
   "display_name": "Python 2",
   "language": "python",
   "name": "python2"
  },
  "language_info": {
   "codemirror_mode": {
    "name": "ipython",
    "version": 2
   },
   "file_extension": ".py",
   "mimetype": "text/x-python",
   "name": "python",
   "nbconvert_exporter": "python",
   "pygments_lexer": "ipython2",
   "version": "2.7.12+"
  }
 },
 "nbformat": 4,
 "nbformat_minor": 2
}
