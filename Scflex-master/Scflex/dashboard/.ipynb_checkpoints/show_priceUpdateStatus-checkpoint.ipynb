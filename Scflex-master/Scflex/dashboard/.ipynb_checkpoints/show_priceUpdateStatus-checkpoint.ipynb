{
 "cells": [
  {
   "cell_type": "code",
   "execution_count": 1,
   "metadata": {
    "collapsed": false
   },
   "outputs": [],
   "source": [
    "from shorthand import *\n",
    "import Scube\n",
    "import Scube.utils\n",
    "import Scube.conf\n",
    "import pandas as pd"
   ]
  },
  {
   "cell_type": "code",
   "execution_count": 2,
   "metadata": {
    "collapsed": false
   },
   "outputs": [],
   "source": [
    "# configuration\n",
    "conf_path = Scube.conf.conf_path\n",
    "conf_handler = Scube.utils.configuration_handler(conf_path)\n",
    "\n",
    "# connect to mongoDB\n",
    "mongodb_pars = conf_handler.Pars['database']['mongodb']\n",
    "db, client = Scube.utils.database_utils.connect_mongoDB_server(mongodb_pars)\n",
    "\n",
    "# get the data and proper formatting\n",
    "status_df = pd.DataFrame(list(db['priceUpdateStatus'].find()))\n",
    "for colname in ['last_failure', 'last_success', 'last_updated']:\n",
    "    status_df[colname] = map(timestamp2datetime, status_df[colname])\n",
    "# end for\n",
    "colnames = ['market', 'symbol', 'priority', 'failures', 'last_record', 'last_updated', 'last_success', 'last_failure', 'active']\n",
    "status_out = status_df[colnames]\n",
    "status_out = status_out.sort_values(by = ['last_updated'], ascending=[False])"
   ]
  },
  {
   "cell_type": "code",
   "execution_count": 17,
   "metadata": {
    "collapsed": false
   },
   "outputs": [],
   "source": [
    "content = status_out.to_records(index=None).tolist()"
   ]
  },
  {
   "cell_type": "code",
   "execution_count": 40,
   "metadata": {
    "collapsed": false
   },
   "outputs": [],
   "source": [
    "output = json.dumps()"
   ]
  },
  {
   "cell_type": "code",
   "execution_count": null,
   "metadata": {
    "collapsed": true
   },
   "outputs": [],
   "source": []
  }
 ],
 "metadata": {
  "kernelspec": {
   "display_name": "Python 2",
   "language": "python",
   "name": "python2"
  },
  "language_info": {
   "codemirror_mode": {
    "name": "ipython",
    "version": 2
   },
   "file_extension": ".py",
   "mimetype": "text/x-python",
   "name": "python",
   "nbconvert_exporter": "python",
   "pygments_lexer": "ipython2",
   "version": "2.7.12"
  }
 },
 "nbformat": 4,
 "nbformat_minor": 0
}
