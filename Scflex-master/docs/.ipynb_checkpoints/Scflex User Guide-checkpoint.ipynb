{
 "cells": [
  {
   "cell_type": "markdown",
   "metadata": {},
   "source": [
    "# Scflex User Guide"
   ]
  },
  {
   "cell_type": "markdown",
   "metadata": {},
   "source": [
    "# Introduction\n",
    "\n",
    "Scflex is a task scheduler for command-line programs in distributed cluster environment. It enables a command line program to run in a distributed, scalable and online environment. The architecture relies on MongoDB Database to store programs and task informations, and Apache Spark for resilient distributed computing."
   ]
  },
  {
   "cell_type": "markdown",
   "metadata": {},
   "source": [
    "## Elements of the system\n",
    "The architecture currently only have two main functionalities\n",
    " 1. A task scheduler\n",
    " 1. A simple web-based task monitoring system"
   ]
  },
  {
   "cell_type": "markdown",
   "metadata": {},
   "source": [
    "## Preparing a Scflex project\n",
    "\n",
    "This guide will walk through the necessary steps, in the form of an example demonstration, to setup an outlier detection algorithm on time-series data of a repertoire of users. The sample program is a python executable named \"simple_outlier_detector\".\n",
    "\n",
    "For demonstration purpose, javascript is being used in this guide. Authentication is not covered in this guide.\n",
    "\n",
    "A (more or less) user-friendly Python interface has been mplementated and can be found in the main repository. "
   ]
  },
  {
   "cell_type": "markdown",
   "metadata": {},
   "source": [
    "The recommended directory structure includes the main executable (\"simple_outlier_detector\" in this example), a setup, a template and a “hook” directory that is soft-linked from the service directory (another directory separated from the main package)"
   ]
  },
  {
   "cell_type": "markdown",
   "metadata": {},
   "source": [
    "Example directory structure\n",
    "- scflex_hook/\n",
    "- setup/\n",
    "- templates/\n",
    "- simple_outlier_detector"
   ]
  },
  {
   "cell_type": "markdown",
   "metadata": {},
   "source": [
    "Example \"scflex_hook\" directory structure:"
   ]
  },
  {
   "cell_type": "markdown",
   "metadata": {},
   "source": [
    "- start_app.sh\n",
    "- setups/\n",
    " - setup_log_dir.sh\n",
    " - setup_task_db.js\n",
    " - setup.py\n",
    " - task_manager.py"
   ]
  },
  {
   "cell_type": "markdown",
   "metadata": {},
   "source": [
    "where\n",
    "- \"start_app.sh\" is a bash script to start the application,\n",
    "- \"setup_log_dir.sh\" is the script to setup logging directory,\n",
    "- \"setup_task_db.js\" is the script to setup mongodb databases and user privilege,\n",
    "- \"task_manager.py\" is a task manager that is specific to each service,\n",
    "- \"setup.py\" is the main script to initialize the task list"
   ]
  },
  {
   "cell_type": "markdown",
   "metadata": {},
   "source": [
    "Examples to these files can be found in the Appendix part of this guide."
   ]
  },
  {
   "cell_type": "markdown",
   "metadata": {},
   "source": [
    "The setup/ directory is reserved for auxillary setup processes (e.g. database, authentication setup), whereas the templates/ directories are useful when templating technique is used (see advanced usages), and will be covered later."
   ]
  },
  {
   "cell_type": "markdown",
   "metadata": {},
   "source": [
    "### Setting up the task list\n",
    "First we will decide the application name to be \"simple_outlier_detection\". It is recommended for the application name to be the same with the name of the MongoDB collection.\n",
    "\n",
    "A task list (i.e. the collection) will be built under the \"Analytics\" database."
   ]
  },
  {
   "cell_type": "code",
   "execution_count": null,
   "metadata": {
    "collapsed": true
   },
   "outputs": [],
   "source": [
    "// build the task list\n",
    "use Analytics;\n",
    "db.simple_outlier_detection.insert({\"role\":\"placeholder\"});\n",
    "// create indexes \n",
    "db.simple_outlier_detection.createIndex({'user_key': 1});\n",
    "db.simple_outlier_detection.createIndex({'role': 1});"
   ]
  },
  {
   "cell_type": "markdown",
   "metadata": {},
   "source": [
    "A \"engine configuration\" then needs to be built in the task list. The configuration document would have a {role:engine_conf} entry, and consists of minimal entries as shown follows."
   ]
  },
  {
   "cell_type": "code",
   "execution_count": null,
   "metadata": {
    "collapsed": true
   },
   "outputs": [],
   "source": [
    "db.simple_outlier_detection.insert({ \n",
    "  \"role\"              : \"engine_conf\",\n",
    "  \"name\"              : \"simple_outlier_detection\",\n",
    "  \"task_db_name\"      : \"Analytics\",\n",
    "  \"task_coll_name\"    : \"simple_outlier_detection\",\n",
    "  \"batch_size\"        : 20,\n",
    "  \"max_timeout\"       : 300,\n",
    "  \"refresh_interval\"  : 10,\n",
    "  \"hibernation_period\": 0,\n",
    "  \"max_failure_n\"     : 10,\n",
    "  \"uuid\"              : \"somerandomuuid\",\n",
    "});"
   ]
  },
  {
   "cell_type": "markdown",
   "metadata": {},
   "source": [
    "### Adding tasks"
   ]
  },
  {
   "cell_type": "markdown",
   "metadata": {},
   "source": [
    "One or more \"task\" can be added to the task list. The task document would have a {role:task} entry, and consists of entries as shown follows."
   ]
  },
  {
   "cell_type": "code",
   "execution_count": null,
   "metadata": {
    "collapsed": true
   },
   "outputs": [],
   "source": [
    "db.simple_outlier_detection.insert({\n",
    "  \"name\"      : \"uniqueNameEachTask\",\n",
    "  \"role\"      : \"task\",\n",
    "  \"uuid\"      : \"somerandomuuid\",\n",
    "  \"date_created\": \"2017-03-09T10:56:00\",\n",
    "  \"historicals\" : {},\n",
    "  \"status\": {\n",
    "    \"status\"         : \"active\",\n",
    "      \"last_updated\" : 0,\n",
    "      \"last_success\" : 0,\n",
    "      \"last_failure\" : 0,\n",
    "      \"failure_n\"    : 0,\n",
    "      \"priority_r\"   : 1.0,\n",
    "      \"last_response\": {\n",
    "        \"status_code\": -1,\n",
    "        \"info\": {\n",
    "          \"duration\": -1\n",
    "        }\n",
    "      }\n",
    "  },\n",
    "  \"program_pars\": {\n",
    "    \"working_dir\"  : \"/home/analytic_bot/uCare/services/Analytics/simple_outlier_detection\",\n",
    "    \"executable\"   : \"./simple_outlier_detector\",\n",
    "    \"cmd_args\" : {\n",
    "      \"f\": 0.10,\n",
    "      \"l\": 0.12\n",
    "      \"infile\" : \"/path/to/input.csv\",\n",
    "      \"outfile\": \"/path/to/output.pickle\"\n",
    "      \"meta\": [\"/home/analytic_bot/template-A.yaml\", \"/home/analytic_bot/template-B.yaml\"]\n",
    "    },\n",
    "  }\n",
    "})"
   ]
  },
  {
   "cell_type": "markdown",
   "metadata": {},
   "source": [
    "### Starting the engine"
   ]
  },
  {
   "cell_type": "markdown",
   "metadata": {},
   "source": [
    "A Scflex task list is essential a Spark application. \n",
    "\n",
    "the recommended way to start the engine is through the \"start_app.sh\" start-up file. The example of a typical start-up file is provided as follows:"
   ]
  },
  {
   "cell_type": "code",
   "execution_count": null,
   "metadata": {
    "collapsed": true
   },
   "outputs": [],
   "source": [
    "$HOME/Scflex/Scflex-master/Scflex/bin/start_service \n",
    " --app simple_outlier_detection_heart \n",
    " --master spark://127.0.0.1:7077 \n",
    " --conf setups/.keys/scflex_conf.yaml \n",
    " --logdir $HOME/log/simple_outlier_detection_heart"
   ]
  },
  {
   "cell_type": "markdown",
   "metadata": {},
   "source": [
    "where\n",
    " * \"app\" is the application name given to the task list (it's an arbitrary label)\n",
    " * \"master\" is the Spark master node url\n",
    " * \"logdif\" is the logging directory for the application\n",
    " * \"conf\" is the important setting which specifies the configuration file for the project. The configuration file should be in yaml/json format, and contain minimally the following content:"
   ]
  },
  {
   "cell_type": "code",
   "execution_count": null,
   "metadata": {
    "collapsed": true
   },
   "outputs": [],
   "source": [
    "db_pars:\n",
    "  username    : analytic_bot\n",
    "  password    : aBotPassword\n",
    "  cluster_url : 127.0.0.1:27017\n",
    "  database    : Analytics\n",
    "  authSource  : admin\n",
    "task_db_name   : Analytics\n",
    "task_coll_name : simple_outlier_detection_heart\n",
    "match_dict     : {\"role\": \"engine_conf\"}"
   ]
  },
  {
   "cell_type": "markdown",
   "metadata": {},
   "source": [
    "where the \"db_pars\" specifies the url and authentication to the MongoDB database, and the rest provides information for Scflex to locate the task engine configuration (engine_conf) file."
   ]
  },
  {
   "cell_type": "markdown",
   "metadata": {},
   "source": [
    "Note that to start the application as a daemon (background process), one can do either make the start_app a (linux) service or use nohup with it. For example:"
   ]
  },
  {
   "cell_type": "code",
   "execution_count": null,
   "metadata": {
    "collapsed": true
   },
   "outputs": [],
   "source": [
    "nohup start_app.sh > nohup.log &"
   ]
  },
  {
   "cell_type": "markdown",
   "metadata": {},
   "source": [
    "### Advanced usages"
   ]
  },
  {
   "cell_type": "markdown",
   "metadata": {},
   "source": [
    "#### A. Templating (development suspended)"
   ]
  },
  {
   "cell_type": "markdown",
   "metadata": {},
   "source": [
    "It is possible to use a template instead of specifying the common attributes in each of the task. Templating is also useful when a change to the program needs to be propagated. One need only to modify the template instead of modifying the entire task list."
   ]
  },
  {
   "cell_type": "markdown",
   "metadata": {},
   "source": [
    "Current Scflex only supports a MongoDB template file (i.e. a MongoDB document). A template file must have three entries of \"name\", \"role:task_template\", and \"content\". Scflex will read the entries below \"content\" and make it to (flag, argument) pairs to be fed to the executable. User provided flags will supersede the template if the parameter names overlap.\n",
    "\n",
    "To add an example task template:"
   ]
  },
  {
   "cell_type": "code",
   "execution_count": 2,
   "metadata": {},
   "outputs": [],
   "source": [
    "db.simple_outlier_detection.insert({\n",
    "  \"name\" : \"default_simple_outlier_detection_heart\",\n",
    "  \"role\" : \"task_template\",\n",
    "  \"content\": {\n",
    "    \"mode\"    : \"interactive\",\n",
    "    \"infile\"  : \"/path/to/input.csv\",\n",
    "    \"outfile\" : \"/path/to/output.pickle\"\n",
    "    \"parfile\" : \"/path/to/parfile.yaml\"\n",
    "  }\n",
    "});"
   ]
  },
  {
   "cell_type": "markdown",
   "metadata": {},
   "source": [
    "For a task to use the template, the task's program_pars entry must contain the following two entries:\n",
    "1. db_pars_path: which points to a yaml/json file specifying the database credentials.\n",
    "1. conf_loc: which specifies the location of the template file in the database. The location must be in the format of \"database_name:collection_name:template_name\".\n",
    "\n",
    "(see \"Adding tasks\" section for an example)"
   ]
  },
  {
   "cell_type": "markdown",
   "metadata": {},
   "source": [
    "## Task status monitoring"
   ]
  },
  {
   "cell_type": "markdown",
   "metadata": {},
   "source": [
    "Scflex task monitoring support is currently only minimal. To inspect the task list, one can use the web-ui provided by Apache Spark, which is by default located at localhost:8080 (i.e. just do \"lynx localhost:8080\" and locate the application).\n",
    "To inspect the status of individual tasks, Scflex includes a minimalist web portal to display the status of all tasks in a task list. By default it's located at localhost:9090."
   ]
  },
  {
   "cell_type": "markdown",
   "metadata": {},
   "source": [
    "### Appendix"
   ]
  },
  {
   "cell_type": "markdown",
   "metadata": {},
   "source": [
    "\\# example \"setup_log_dir.sh\""
   ]
  },
  {
   "cell_type": "code",
   "execution_count": null,
   "metadata": {
    "collapsed": true
   },
   "outputs": [],
   "source": [
    "#!/bin.sh\n",
    "mkdir /home/analytic_bot/log/uCare_simple_outlier_detection\n",
    "chgrp uCare -R /home/analytic_bot/log/uCare_simple_outlier_detection\n",
    "chmod g+w /home/analytic_bot/log/uCare_simple_outlier_detection"
   ]
  },
  {
   "cell_type": "markdown",
   "metadata": {},
   "source": [
    "\\# example \"setup_task_db.js\""
   ]
  },
  {
   "cell_type": "code",
   "execution_count": null,
   "metadata": {
    "collapsed": true
   },
   "outputs": [],
   "source": [
    "// create user in admin database\n",
    "use admin;\n",
    "db.system.users.updateOne(\n",
    "        {\"_id\":\"admin.analytic_bot\"}, \n",
    "        {$push: {\"roles\": \n",
    "                {\"role\": \"readWrite\", \n",
    "                 \"db\": \"Analytics\"\n",
    "                }}\n",
    "        }\n",
    ");\n",
    "\n",
    "// create user in Analytics database\n",
    "use Analytics;\n",
    "db.createUser(\n",
    "  {\n",
    "    user: \"analytic_bot\",\n",
    "    pwd: \"analyticpass\",\n",
    "    roles: [{ role: \"readWrite\", \"db\" : \"Analytics\"}]\n",
    "  }\n",
    ");"
   ]
  }
 ],
 "metadata": {
  "kernelspec": {
   "display_name": "Python 2",
   "language": "python",
   "name": "python2"
  },
  "language_info": {
   "codemirror_mode": {
    "name": "ipython",
    "version": 2
   },
   "file_extension": ".py",
   "mimetype": "text/x-python",
   "name": "python",
   "nbconvert_exporter": "python",
   "pygments_lexer": "ipython2",
   "version": "2.7.12+"
  }
 },
 "nbformat": 4,
 "nbformat_minor": 2
}
